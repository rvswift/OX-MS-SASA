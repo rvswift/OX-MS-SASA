{
 "cells": [
  {
   "cell_type": "code",
   "execution_count": 46,
   "id": "f68d2da5-3036-46c3-a9f9-f0cb1d5d8d64",
   "metadata": {},
   "outputs": [],
   "source": [
    "import mdtraj as md\n",
    "import pandas as pd"
   ]
  },
  {
   "cell_type": "code",
   "execution_count": 79,
   "id": "c75be3f8-9052-4bac-a458-db7928b3ac73",
   "metadata": {},
   "outputs": [],
   "source": [
    "# venetoclax\n",
    "ven_pdb = md.load_pdb('6o0k-BCL2-ven_no_wat.pdb')\n",
    "sasa = md.shrake_rupley(ven_pdb, probe_radius=0.14, n_sphere_points=960, mode='residue')\n",
    "ven_df = pd.DataFrame()\n",
    "ven_df['SASA (nM)'] = sasa[0]\n",
    "ven_df['Residue'] = [r for r in ven_pdb.topology.residues]\n",
    "ven_df.to_csv('ven_sasa.csv')"
   ]
  },
  {
   "cell_type": "code",
   "execution_count": 80,
   "id": "5e9146bf-d7f6-441d-b281-f1faa1228acc",
   "metadata": {},
   "outputs": [],
   "source": [
    "# servier\n",
    "serv_pdb = md.load_pdb('BOU-101_RTX-1139898_2.04A_final_no_wat.pdb')\n",
    "sasa = md.shrake_rupley(serv_pdb, probe_radius=0.14, n_sphere_points=960, mode='residue')\n",
    "serv_df = pd.DataFrame()\n",
    "serv_df['SASA (nM)'] = sasa[0]\n",
    "serv_df['Residue'] = [r for r in serv_pdb.topology.residues]\n",
    "serv_df.to_csv('serv_sasa.csv')"
   ]
  },
  {
   "cell_type": "code",
   "execution_count": 81,
   "id": "a68824b4-20f3-49d3-82f9-6b44c4b35420",
   "metadata": {},
   "outputs": [],
   "source": [
    "# apo\n",
    "apo_pdb = md.load_pdb('BOU-101_APO_2.01A_final_no_wat.pdb')\n",
    "sasa = md.shrake_rupley(apo_pdb, probe_radius=0.14, n_sphere_points=960, mode='residue')\n",
    "apo_df = pd.DataFrame()\n",
    "apo_df['SASA (nM)'] = sasa[0]\n",
    "apo_df['Residue'] = [r for r in apo_pdb.topology.residues]\n",
    "apo_df.to_csv('apo_sasa.csv')"
   ]
  }
 ],
 "metadata": {
  "kernelspec": {
   "display_name": "mdtraj",
   "language": "python",
   "name": "mdtraj"
  },
  "language_info": {
   "codemirror_mode": {
    "name": "ipython",
    "version": 3
   },
   "file_extension": ".py",
   "mimetype": "text/x-python",
   "name": "python",
   "nbconvert_exporter": "python",
   "pygments_lexer": "ipython3",
   "version": "3.9.15"
  }
 },
 "nbformat": 4,
 "nbformat_minor": 5
}
